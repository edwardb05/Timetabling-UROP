{
 "cells": [
  {
   "cell_type": "markdown",
   "metadata": {},
   "source": [
    "Going to use pandas to read the excel files"
   ]
  },
  {
   "cell_type": "code",
   "execution_count": 18,
   "metadata": {},
   "outputs": [],
   "source": [
    "# %pip install pandas\n",
    "# %pip install rapidfuzz\n",
    "# %pip install collections\n",
    "# %pip install openpyxl"
   ]
  },
  {
   "cell_type": "code",
   "execution_count": 19,
   "metadata": {},
   "outputs": [],
   "source": [
    "import pandas as pd\n",
    "from rapidfuzz import process, fuzz\n",
    "from collections import defaultdict\n",
    "from openpyxl import load_workbook\n",
    "from datetime import datetime, timedelta\n",
    "import re\n",
    "from dateutil.parser import parse"
   ]
  },
  {
   "cell_type": "markdown",
   "metadata": {},
   "source": [
    "Read the files"
   ]
  },
  {
   "cell_type": "code",
   "execution_count": 20,
   "metadata": {},
   "outputs": [
    {
     "name": "stderr",
     "output_type": "stream",
     "text": [
      "/Users/edwardbrady/Library/Python/3.12/lib/python/site-packages/openpyxl/worksheet/header_footer.py:48: UserWarning: Cannot parse header or footer so it will be ignored\n",
      "  warn(\"\"\"Cannot parse header or footer so it will be ignored\"\"\")\n"
     ]
    }
   ],
   "source": [
    "students_df = pd.read_excel('/Users/edwardbrady/Library/CloudStorage/OneDrive-ImperialCollegeLondon/UROP-Exam-timetabling/input data/student list DONOT SORT ONLY FILTER.xlsx',header=None)\n",
    "leaders_df = pd.read_excel('/Users/edwardbrady/Library/CloudStorage/OneDrive-ImperialCollegeLondon/UROP-Exam-timetabling/input data/Mech Eng module list 2025-26v2.xlsx',sheet_name=1,header=1)\n",
    "# Load workbook and worksheet for useful dates\n",
    "wb = load_workbook(\"/Users/edwardbrady/Library/CloudStorage/OneDrive-ImperialCollegeLondon/UROP-Exam-timetabling/input data/2025-26 Useful Dates.xlsx\")\n",
    "ws = wb.active"
   ]
  },
  {
   "cell_type": "markdown",
   "metadata": {},
   "source": [
    "Creating a list of exam names, from excel can see they're in Row 'A' which is 0 and start from column 'J' which is 9"
   ]
  },
  {
   "cell_type": "code",
   "execution_count": 21,
   "metadata": {},
   "outputs": [
    {
     "name": "stdout",
     "output_type": "stream",
     "text": [
      "['BUSI60039 Business Strategy', 'BUSI60046 Project Management', 'BUSI60040/BUSI60043 Corporate Finance Online/Finance & Financial Management', 'MECH70022 Advanced Control', 'MECH70045 Advanced Numerical Methods for Engineers  ', 'MECH70019 Advanced Stress Analysis', 'MECH70021Aircraft Engine Technology', 'ME ELEC70066 Applied Advanced Optimisation', 'MECH70016 Applied Vibration Engineering', 'MECH60024 Automotive Design with Motorsport', 'MECH70020 Combustion, Safety and Fire Dynamics', 'MECH60021/MECH70018 Computational Continuum Mechanics A/B', 'MECH70015 Computational Fluid Dynamics', 'MECH70026 Energy Systems', 'MECH70027 Environmental and Applied Fluid Dynamics', 'MECH60007/MECH70012 Finite Element Analysis and Applications A/B', 'MECH60006 Fluid Mechanics 3AB', 'MECH60002/MECH70005 Fracture Mechanics A/B', 'MECH70003 Future Clean Transport Technology', 'BIOE70016 Human Neuromechanical Control and Learning', 'MECH70009 Interfacing and Data Processing', 'MECH60004/MECH70042 Introduction to Nuclear Energy A/B', 'MECH70054 Introduction to Robotics', 'MECH60001 Machine Dynamics and Vibrations A', 'MECH60005/MECH70053 Manufacturing Technology and Management A/B', 'MECH60016/MECH70051 Mathematics A/B', 'MECH70008 Mechanical Transmissions Technology', 'MECH60018/ MECH70046 Mechatronics 3AB', 'MECH70006 Metal Processing Technology', 'ME-ELEC70022 Modelling and Control of Multi-body Mechanical Systems', 'CENG60013 Nuclear Chemical Engineering', 'ME-MATE70029 Nuclear Fusion', 'MATE97022 Nuclear Materials 1', 'MECH70002 Nuclear Reactor Physics', 'MECH70001 Nuclear Thermal Hydraulics', 'ME-ELEC70098 Optimisation', 'MECH60015/70030 PEN3/AME', 'MECH60017/MECH70041 Statistics A/B', 'MECH60014/ MECH70004 Stress Analysis 3AB', 'MECH60013/MECH70043 Structure, Properties and Applications of Polymers A/B', 'ME-ELEC70076 Sustainable Electrical Systems', 'MECH60011 Thermodynamics 3A', 'MECH60019/MECH70044 Tribology A/B']\n"
     ]
    }
   ],
   "source": [
    "exams = students_df.iloc[0, 9:].dropna().tolist()\n",
    "print(exams)\n"
   ]
  },
  {
   "cell_type": "markdown",
   "metadata": {},
   "source": [
    "To calculate the number of days for the exam period we can assume it will be 3 weeks, weeks 31-33 and therefore it will be 21 days starting on monday of week 31"
   ]
  },
  {
   "cell_type": "code",
   "execution_count": 22,
   "metadata": {},
   "outputs": [],
   "source": [
    "num_days = 21"
   ]
  },
  {
   "cell_type": "markdown",
   "metadata": {},
   "source": [
    "To create a dictionary of students and there exams we will flick through each row, which is a studnet, and for every module that has an x , A or B add it to their exams. At the end add PEN as everyone does PEN\n"
   ]
  },
  {
   "cell_type": "code",
   "execution_count": 23,
   "metadata": {},
   "outputs": [
    {
     "name": "stdout",
     "output_type": "stream",
     "text": [
      "Student exams dictionary:{student_exams}\n"
     ]
    }
   ],
   "source": [
    "# Get the range of rows containing student data (from row 3 onward)\n",
    "student_rows = students_df.iloc[2:, :]  # row index 3 and onward\n",
    "\n",
    "# Initialize the dictionary\n",
    "student_exams = {}\n",
    "\n",
    "for _, row in student_rows.iterrows():\n",
    "        cid = row[0]  # Column A = student CID\n",
    "        exams_taken = []\n",
    "\n",
    "        for col_idx, exam_name in enumerate(exams, start=9):  # Column J = index 9\n",
    "            if str(row[col_idx]).strip().lower() == 'x' or str(row[col_idx]).strip().lower() == 'a'  or str(row[col_idx]).strip().lower() == 'b' :  # Check for 'x' or 'a' or 'b' to indicate they take this course (case-insensitive)\n",
    "                exams_taken.append(exam_name)\n",
    "\n",
    "        student_exams[cid] = exams_taken\n",
    "\n",
    "        # Get the range of rows containing student data (from row 3 onward)\n",
    "\n",
    "\n"
   ]
  },
  {
   "cell_type": "markdown",
   "metadata": {},
   "source": [
    "To create a list of core modules I will read it off the excel from last year "
   ]
  },
  {
   "cell_type": "code",
   "execution_count": 24,
   "metadata": {},
   "outputs": [],
   "source": [
    "Core_modules = [\"MECH70001 Nuclear Thermal Hydraulics\",\"MECH60004/MECH70042 Introduction to Nuclear Energy A/B\",\"MECH70002 Nuclear Reactor Physics\",\"MECH70008 Mechanical Transmissions Technology\",\"MECH70006 Metal Processing Technology\",\"MECH70021Aircraft Engine Technology\",\"MECH70003 Future Clean Transport Technology\",\"MECH60015 / MECH70030 Professional Engineering Skills (ME3/AME) (ECE exam)\"]"
   ]
  },
  {
   "cell_type": "markdown",
   "metadata": {},
   "source": [
    "Creating a dictionary of fixed modules and their dates, in the format day, slot with day being the day from the first monday (including w/e) of exam season and slot being either morning or afternoon"
   ]
  },
  {
   "cell_type": "code",
   "execution_count": 25,
   "metadata": {},
   "outputs": [],
   "source": [
    "Fixed_modules = {\"BUSI60039 Business Strategy\" :[1,1],\"BUSI60046 Project Management\":[2,1],\"ME-ELEC70098 Optimisation\":[3,0],\"MECH70001 Nuclear Thermal Hydraulics\":[3,0],\"BUSI60040/BUSI60043 Corporate Finance Online/Finance & Financial Management\":[3,1],\"MECH60004/MECH70042 Introduction to Nuclear Energy A/B\":[4,0],\"ME-ELEC70022 Modelling and Control of Multi-body Mechanical Systems\":[4,0],\"MATE97022 Nuclear Materials 1\":[4,0],\"ME-MATE70029 Nuclear Fusion\":[9,0],\"MECH70002 Nuclear Reactor Physics\":[10,0],\"ME-ELEC70076 Sustainable Electrical Systems\":[10,0],\"ME ELEC70066 Applied Advanced Optimisation\":[10,0],\"MECH70020 Combustion, Safety and Fire Dynamics\":[11,0],\"BIOE70016 Human Neuromechanical Control and Learning\":[11,0],\"CENG60013 Nuclear Chemical Engineering\":[11,0],\"MECH70008 Mechanical Transmissions Technology\":[17,1],\"MECH70006 Metal Processing Technology\":[17,1],\"MECH70021Aircraft Engine Technology\":[17,1],\"MECH70003 Future Clean Transport Technology\":[17,1],\"MECH60015 / MECH70030 Professional Engineering Skills (ME3/AME) (ECE exam)\":[18,1]}"
   ]
  },
  {
   "cell_type": "markdown",
   "metadata": {},
   "source": [
    "Creat a dictionary of each module leader and there respective exams, this needs to use the names used in the students spreadsheet and as such we combine course code and name and find the closest match. Some are disregarded as they're not examinable courses."
   ]
  },
  {
   "cell_type": "code",
   "execution_count": 47,
   "metadata": {},
   "outputs": [],
   "source": [
    "\n",
    "# Extract official module names from row 0, columns J onwards (i.e., column 9 onward, 0-indexed)\n",
    "standardized_names = exams\n",
    "\n",
    "\n",
    "# Prepare module-leader dictionary\n",
    "leader_courses = defaultdict(list)\n",
    "exam_types = dict()\n",
    "# Loop through rows in the module list\n",
    "for _, row in leaders_df.iterrows():\n",
    "\n",
    "    leaders = []\n",
    "    if pd.notna(row['Module Leader (lecturer 1)']):\n",
    "        leaders.append(row['Module Leader (lecturer 1)'])\n",
    "\n",
    "    if pd.notna(row['(UGO Internal) 2nd Exam Marker']):\n",
    "        leaders.append(row['(UGO Internal) 2nd Exam Marker'])\n",
    "\n",
    "    name = row['Module Name']\n",
    "    code = row['Banner Code (New CR)']   # module leader\n",
    "\n",
    "    # Skip if any required field is missing\n",
    "    if pd.isna(code) or pd.isna(name) :\n",
    "        continue\n",
    "\n",
    "    if len(leaders) == 0 :\n",
    "        continue\n",
    "\n",
    "    # Combine code and name\n",
    "    combined_name = f\"{code} {name}\"\n",
    "\n",
    "    # Fuzzy match to standardized names\n",
    "    best_match, score, _ = process.extractOne(\n",
    "        combined_name, standardized_names, scorer=fuzz.token_sort_ratio\n",
    "    )\n",
    "\n",
    "    if score >= 70: \n",
    "        exam_types[best_match] = row['(UGO Internal) Exam Style'] if pd.notna(row['(UGO Internal) Exam Style']) else None\n",
    "        for leader in leaders:\n",
    "\n",
    "            if best_match not in leader_courses[leader]:\n",
    "                leader_courses[leader].append(best_match)\n",
    "            else:\n",
    "                a=1\n",
    "                # print(f\"⚠️ Duplicate match skipped for '{combined_name}': '{best_match}' is already listed for {leader}.\")\n",
    "    else:\n",
    "        a=1\n",
    "        # print(f\"⚠️ Low confidence match for '{combined_name}' (best: '{best_match}', score: {score}).\")\n",
    "\n",
    "\n",
    "# Convert to normal dict if desired\n",
    "leader_courses = dict(leader_courses)\n",
    "\n",
    "for exam in exams:\n",
    "    if exam not in exam_types:\n",
    "        exam_types[exam] = \"Standard\"\n"
   ]
  },
  {
   "cell_type": "markdown",
   "metadata": {},
   "source": [
    "Make a list of everyone with special exam arrangements"
   ]
  },
  {
   "cell_type": "code",
   "execution_count": 27,
   "metadata": {},
   "outputs": [],
   "source": [
    "AEA = students_df[students_df.iloc[:, 3].astype(str).str.strip() != \"\"].iloc[:, 0].tolist()"
   ]
  },
  {
   "cell_type": "markdown",
   "metadata": {},
   "source": [
    "Make a list of students with 25% extra time to ensure they dont have more than on exam a day"
   ]
  },
  {
   "cell_type": "code",
   "execution_count": 28,
   "metadata": {},
   "outputs": [
    {
     "name": "stdout",
     "output_type": "stream",
     "text": [
      "[2000005, 2000008, 2000019, 2000026, 2000035, 2000041, 2000042, 2000058, 2000065, 2000068, 2000069, 2000075, 2000083, 2000092, 2000098, 2000099, 2000112, 2000114, 2000116, 2000118, 2000120, 2000121, 2000124, 2000155, 2000156, 2000164, 2000171, 2000175, 2000183, 2000186, 2000191, 2000193, 2000197, 2000199, 2000206, 2000208, 2000223, 2000248, 2000271, 2000277, 2000287, 2000291, 2000296, 2000299, 2000312, 2000317, 2000326, 2000327, 2000335, 2000339, 2000345, 2000353, 2000361, 2000375, 2000390, 2000391, 2000398, 2000403, 2000410]\n"
     ]
    }
   ],
   "source": [
    "extra_time_students_25 = students_df[students_df.iloc[:, 3].astype(str).str.startswith((\"15min/hour\", \"25% extra time\"))].iloc[:, 0].tolist()\n",
    "\n",
    "print(extra_time_students_25)"
   ]
  },
  {
   "cell_type": "code",
   "execution_count": 29,
   "metadata": {},
   "outputs": [
    {
     "name": "stdout",
     "output_type": "stream",
     "text": [
      "[2000089]\n"
     ]
    }
   ],
   "source": [
    "extra_time_students_50 = students_df[students_df.iloc[:, 3].astype(str).str.startswith((\"30min/hour\", \"50% extra time\"))].iloc[:, 0].tolist()\n",
    "\n",
    "print(extra_time_students_50)"
   ]
  },
  {
   "cell_type": "markdown",
   "metadata": {},
   "source": [
    "Need to read the bank holidays and forbidden time slots these will have the form [day,slot] the weekends, (days 5, 6 and 12, 13) can be assumed to not have exams and the no exam on morning of the last friday"
   ]
  },
  {
   "cell_type": "code",
   "execution_count": 30,
   "metadata": {},
   "outputs": [],
   "source": [
    "no_exam_dates = [[5,0],[5,1],[6,0],[6,1],[12,0],[12,1],[13,0],[13,1],[20,0],]"
   ]
  },
  {
   "cell_type": "markdown",
   "metadata": {},
   "source": [
    "To find the bank holidays we will use the useful dates spreadsheet as this has the start of the summer term and also the bank holidays, first we find the date of the start of summer term, this is made more difficult due to the fact that it is written in the form of day, month to day month year and we need day month year of start. Once this is found the first monday is assumed to be the following monday from this. Then the dates of the bank holidays are found and anything within 20 days is found and appended to the no exam dates"
   ]
  },
  {
   "cell_type": "code",
   "execution_count": 31,
   "metadata": {},
   "outputs": [
    {
     "name": "stdout",
     "output_type": "stream",
     "text": [
      "Early May Bank Holiday is 7 days after first Monday (2026-05-04)\n",
      "No exam dates: [[5, 0], [5, 1], [6, 0], [6, 1], [12, 0], [12, 1], [13, 0], [13, 1], [20, 0], [7, 0], [7, 1]]\n"
     ]
    }
   ],
   "source": [
    "\n",
    "\n",
    "# Initialize\n",
    "bank_holidays = []\n",
    "\n",
    "\n",
    "# --- Step 1: Extract bank holidays from col F (names) and G (dates) ---\n",
    "row = 5\n",
    "while True:\n",
    "    name = ws[f\"F{row}\"].value\n",
    "    date_cell = ws[f\"G{row}\"].value\n",
    "    if name is None or \"Term Dates\" in str(name):\n",
    "        break\n",
    "    if isinstance(date_cell, datetime):\n",
    "        bank_holidays.append((str(name).strip(), date_cell.date()))\n",
    "    row += 1\n",
    "\n",
    "# --- Step 2: Find Summer Term start date from section below ---\n",
    "summer_start = None\n",
    "while row < ws.max_row:\n",
    "    cell_value = ws[f\"F{row}\"].value\n",
    "    if cell_value and \"Summer Term\" in str(cell_value):\n",
    "        term_range = ws[f\"F{row + 1}\"].value\n",
    "        if term_range:\n",
    "            try:\n",
    "                # Extract left side of range before \"to\", drop weekday (e.g., \"Fri\"), and append year\n",
    "                start_part = term_range.split(\"to\")[0].strip()\n",
    "                start_str = re.sub(r\"^\\w+\\s+\", \"\", start_part)  # Removes \"Fri\", leaves \"24 Apr\"\n",
    "                # Try extracting year from second part if present\n",
    "                year_match = re.search(r\"\\b\\d{4}\\b\", term_range)\n",
    "                if year_match:\n",
    "                    start_str += f\" {year_match.group(0)}\"\n",
    "                else:\n",
    "                    raise ValueError(\"Year not found in date range.\")\n",
    "                summer_start = parse(start_str, dayfirst=True).date()\n",
    "            except Exception as e:\n",
    "                raise ValueError(f\"Could not parse Summer Term start: {term_range}\") from e\n",
    "        else:\n",
    "            raise ValueError(\"Summer Term range cell is empty.\")\n",
    "        break\n",
    "    row += 1\n",
    "\n",
    "if not summer_start:\n",
    "    raise ValueError(\"Summer Term start date not found.\")\n",
    "\n",
    "# --- Step 3: Find first Monday on or after summer_start ---\n",
    "first_monday = summer_start\n",
    "while first_monday.weekday() != 0:  # 0 = Monday\n",
    "    first_monday += timedelta(days=1)\n",
    "\n",
    "# --- Step 4: Find bank holidays within 3 weeks after first Monday ---\n",
    "for name, bh_date in bank_holidays:\n",
    "    delta = (bh_date - first_monday).days\n",
    "    if 0 <= delta <= 20:\n",
    "        print(f\"{name} is {delta} days after first Monday ({bh_date})\")\n",
    "        no_exam_dates.append([delta, 0])\n",
    "        no_exam_dates.append([delta, 1])\n",
    "\n",
    "# --- Final Output ---\n",
    "print(\"No exam dates:\", no_exam_dates)\n"
   ]
  },
  {
   "cell_type": "markdown",
   "metadata": {},
   "source": [
    "Create a dictionary of rooms using the format ' Room number : [list of uses],[capacity]'"
   ]
  },
  {
   "cell_type": "code",
   "execution_count": 32,
   "metadata": {},
   "outputs": [],
   "source": [
    "rooms = {\n",
    "    'CAGB 203': [[\"Computer\", \"SEQ\",], 65],\n",
    "    'CAGB 309': [[\"SEQ\"], 54],\n",
    "    'CAGB 659-652': [[\"SEQ\"], 75],\n",
    "    'CAGB 747-748': [[\"SEQ\"], 36],\n",
    "    'CAGB 749-752': [[\"SEQ\"], 75],\n",
    "    'CAGB 761': [[\"Computer\", \"SEQ\"], 25],\n",
    "    'CAGB 762': [[\"Computer\", \"SEQ\"], 25],\n",
    "    'SKEM 208': [[\"Computer\", \"SEQ\"], 35],\n",
    "    'SKEM 317': [[\"Computer\", \"SEQ\"], 20],\n",
    "    'CAGB 320-321': [[\"AEA\"], 10],\n",
    "    'CAGB 305': [[\"AEA\"], 4],\n",
    "    'CAGB 349': [[\"AEA\"], 2],\n",
    "    'CAGB 311': [[\"AEA\"], 1],\n",
    "    'CAGB 765': [[\"AEA\"],[\"Computer\"], 10],\n",
    "    'CAGB 527': [[\"AEA\"], 2]\n",
    "}\n"
   ]
  },
  {
   "cell_type": "markdown",
   "metadata": {},
   "source": [
    "Add a dictionary of exams and how many students they have, with SEQ and AEA students"
   ]
  },
  {
   "cell_type": "code",
   "execution_count": 33,
   "metadata": {},
   "outputs": [],
   "source": [
    "exam_counts = defaultdict(lambda: [0, 0])\n",
    "\n",
    "for cid, exams_taken in student_exams.items():\n",
    "    if cid in AEA:\n",
    "        for exam in exams_taken:\n",
    "            exam_counts[exam][0] += 1\n",
    "    else:\n",
    "        for exam in exams_taken:\n",
    "            exam_counts[exam][1] += 1"
   ]
  }
 ],
 "metadata": {
  "kernelspec": {
   "display_name": "Python 3",
   "language": "python",
   "name": "python3"
  },
  "language_info": {
   "codemirror_mode": {
    "name": "ipython",
    "version": 3
   },
   "file_extension": ".py",
   "mimetype": "text/x-python",
   "name": "python",
   "nbconvert_exporter": "python",
   "pygments_lexer": "ipython3",
   "version": "3.12.3"
  },
  "orig_nbformat": 4
 },
 "nbformat": 4,
 "nbformat_minor": 2
}
