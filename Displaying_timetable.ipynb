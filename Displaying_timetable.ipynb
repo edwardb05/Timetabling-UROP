{
 "cells": [
  {
   "cell_type": "code",
   "execution_count": 22,
   "metadata": {},
   "outputs": [],
   "source": [
    "# %pip install pandas openpyxl"
   ]
  },
  {
   "cell_type": "code",
   "execution_count": 23,
   "metadata": {},
   "outputs": [],
   "source": [
    "import pandas as pd\n",
    "from openpyxl import load_workbook"
   ]
  },
  {
   "cell_type": "markdown",
   "metadata": {},
   "source": [
    "Some example data of what an output dictionary could look like with it being exam name and then day then slot (morning/afternoon), this only has 4 days and a few exams"
   ]
  },
  {
   "cell_type": "code",
   "execution_count": 24,
   "metadata": {},
   "outputs": [],
   "source": [
    "exams_timetabled = {\n",
    "    'Math': (0, 0),        # Monday, Morning\n",
    "    'Physics': (1, 0),     # Tuesday, Morning\n",
    "    'Chemistry': (1, 1),   # Monday, Afternoon\n",
    "    'History': (2, 0),     # Wednesday, Morning\n",
    "    'Geography': (1, 1),   # Tuesday, Afternoon\n",
    "    'PE': (3, 0),          # Thursday, Morning\n",
    "    'Music': (2, 1),       # Wednesday, Afternoon\n",
    "}\n"
   ]
  },
  {
   "cell_type": "code",
   "execution_count": 25,
   "metadata": {},
   "outputs": [
    {
     "name": "stdout",
     "output_type": "stream",
     "text": [
      "Excel file 'exam_schedule_merged.xlsx' created with merged cells.\n"
     ]
    }
   ],
   "source": [
    "days = ['Monday', 'Tuesday', 'Wednesday', 'Thursday',]\n",
    "slots = ['Morning', 'Afternoon']\n",
    "\n",
    "\n",
    "# Group exams by day and slot\n",
    "data = {}\n",
    "for exam, (d, s) in exams_timetabled.items():\n",
    "    day = days[d]\n",
    "    slot = slots[s]\n",
    "    data.setdefault(day, {}).setdefault(slot, []).append(exam)\n",
    "\n",
    "rows = []\n",
    "for day in days:\n",
    "    for slot in slots:\n",
    "        exams_list = data.get(day, {}).get(slot, [])\n",
    "        exams_str = ', '.join(exams_list) if exams_list else ''\n",
    "        rows.append([day, slot, exams_str])\n",
    "\n",
    "\n",
    "df = pd.DataFrame(rows, columns=['Day', 'Time', 'Exams'])\n",
    "\n",
    "# Save DataFrame to Excel\n",
    "filename = 'exam_schedule_merged.xlsx'\n",
    "df.to_excel(filename, index=False)\n",
    "\n",
    "# Now open with openpyxl to merge cells\n",
    "wb = load_workbook(filename)\n",
    "ws = wb.active\n",
    "\n",
    "def merge_cells_for_col(col_idx):\n",
    "    current_val = None\n",
    "    start_row = 2  # skip header\n",
    "    max_row = ws.max_row + 1\n",
    "    for row in range(2, max_row):\n",
    "        cell = ws.cell(row=row, column=col_idx)\n",
    "        if cell.value != current_val:\n",
    "            # Merge the previous block if >1 row\n",
    "            if current_val is not None and row - start_row > 1:\n",
    "                ws.merge_cells(start_row=start_row, start_column=col_idx,\n",
    "                               end_row=row - 1, end_column=col_idx)\n",
    "            current_val = cell.value\n",
    "            start_row = row\n",
    "    # Merge last block\n",
    "    if current_val is not None and max_row - start_row > 0:\n",
    "        ws.merge_cells(start_row=start_row, start_column=col_idx,\n",
    "                       end_row=max_row - 1, end_column=col_idx)\n",
    "\n",
    "# Merge Day column (A=1)\n",
    "merge_cells_for_col(1)\n",
    "# Merge Time column (B=2)\n",
    "merge_cells_for_col(2)\n",
    "\n",
    "wb.save(filename)\n",
    "print(f\"Excel file '{filename}' created with merged cells.\")\n"
   ]
  }
 ],
 "metadata": {
  "kernelspec": {
   "display_name": "Python 3",
   "language": "python",
   "name": "python3"
  },
  "language_info": {
   "codemirror_mode": {
    "name": "ipython",
    "version": 3
   },
   "file_extension": ".py",
   "mimetype": "text/x-python",
   "name": "python",
   "nbconvert_exporter": "python",
   "pygments_lexer": "ipython3",
   "version": "3.11.3"
  },
  "orig_nbformat": 4
 },
 "nbformat": 4,
 "nbformat_minor": 2
}
