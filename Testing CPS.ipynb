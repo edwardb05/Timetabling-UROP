{
  "cells": [
    {
      "cell_type": "markdown",
      "source": [
        "Using the OR-Tools package by google"
      ],
      "metadata": {
        "id": "ys4mHyjOcFfT"
      }
    },
    {
      "cell_type": "code",
      "execution_count": 33,
      "metadata": {
        "id": "AwJYYwIi31AE"
      },
      "outputs": [],
      "source": [
        "# Install OR-Tools if not installed\n",
        "# %pip install ortools\n",
        "\n",
        "from ortools.sat.python import cp_model"
      ]
    },
    {
      "cell_type": "markdown",
      "source": [
        "Making some sample data to show how it could work"
      ],
      "metadata": {
        "id": "EcM5RZV2cLE0"
      }
    },
    {
      "cell_type": "code",
      "execution_count": 34,
      "metadata": {
        "id": "bpbeqJZR31AJ"
      },
      "outputs": [],
      "source": [
        "# Sample data\n",
        "\n",
        "exams = ['Math', 'Physics', 'Chemistry', 'History','Geography','PE','Music']\n",
        "students = {\n",
        "    'Alice': ['Math', 'Physics','Geography','PE'],\n",
        "    'Bob': ['Physics', 'Chemistry','Music'],\n",
        "    'Charlie': ['Math', 'History','PE'],\n",
        "}\n",
        "days = ['Mon', 'Tue', 'Wed','Thursday']\n",
        "\n",
        "# Fixed exam slots (exam: day index)\n",
        "fixed_slots = {\n",
        "    'History': 2  # History exam fixed on Wed\n",
        "}"
      ]
    },
    {
      "cell_type": "markdown",
      "source": [
        "Initialize the model"
      ],
      "metadata": {
        "id": "buLYs_CHcPnF"
      }
    },
    {
      "cell_type": "code",
      "execution_count": 35,
      "metadata": {
        "id": "-Ehk1o8A31AJ"
      },
      "outputs": [],
      "source": [
        "\n",
        "model = cp_model.CpModel()"
      ]
    },
    {
      "cell_type": "markdown",
      "source": [],
      "metadata": {
        "id": "vM38ieNMcRT7"
      }
    },
    {
      "cell_type": "code",
      "execution_count": 36,
      "metadata": {
        "id": "azY0nhmX31AK"
      },
      "outputs": [],
      "source": [
        "# Create variables:\n",
        "# exam_schedule[exam] = day assigned (0..len(days)-1)\n",
        "exam_schedule = {}\n",
        "for exam in exams:\n",
        "    if exam in fixed_slots:\n",
        "        # Fixed day\n",
        "        exam_schedule[exam] = model.NewConstant(fixed_slots[exam])\n",
        "    else:\n",
        "        exam_schedule[exam] = model.NewIntVar(0, len(days)-1, exam)\n"
      ]
    },
    {
      "cell_type": "markdown",
      "source": [
        "The solver needs constraints, here are two simple ones to show what it can do"
      ],
      "metadata": {
        "id": "jblIxGzSeTwY"
      }
    },
    {
      "cell_type": "code",
      "execution_count": 37,
      "metadata": {
        "id": "lMAaNDSK31AK"
      },
      "outputs": [],
      "source": [
        "\n",
        "# Constraint 1: No student has more than 1 exam on the same day\n",
        "for student, stu_exams in students.items():\n",
        "    for i in range(len(stu_exams)):\n",
        "        for j in range(i+1, len(stu_exams)):\n",
        "            # exams for this student must be on different days\n",
        "            model.Add(exam_schedule[stu_exams[i]] != exam_schedule[stu_exams[j]])"
      ]
    },
    {
      "cell_type": "code",
      "execution_count": 38,
      "metadata": {
        "id": "18-rkf3p31AL"
      },
      "outputs": [],
      "source": [
        "\n",
        "# Constraint 2: No more than 2 exams per day (optional example)\n",
        "for d in range(len(days)):\n",
        "    exams_on_day = []\n",
        "    for exam in exams:\n",
        "        is_on_day = model.NewBoolVar(f'{exam}_on_day_{d}')\n",
        "        model.Add(exam_schedule[exam] == d).OnlyEnforceIf(is_on_day)\n",
        "        model.Add(exam_schedule[exam] != d).OnlyEnforceIf(is_on_day.Not())\n",
        "        exams_on_day.append(is_on_day)\n",
        "    model.Add(sum(exams_on_day) <= 2)\n"
      ]
    },
    {
      "cell_type": "markdown",
      "source": [
        "The solver can then be ran to see if the problem can be solved"
      ],
      "metadata": {
        "id": "vdN4ETw1eJLh"
      }
    },
    {
      "cell_type": "code",
      "execution_count": 39,
      "metadata": {
        "colab": {
          "base_uri": "https://localhost:8080/"
        },
        "id": "1ypGoKXo31AL",
        "outputId": "663c5b83-2168-4110-8969-f9e8468c1416"
      },
      "outputs": [
        {
          "output_type": "stream",
          "name": "stdout",
          "text": [
            "Exam schedule:\n",
            " - Math: Mon\n",
            " - Physics: Wed\n",
            " - Chemistry: Tue\n",
            " - History: Wed\n",
            " - Geography: Tue\n",
            " - PE: Thursday\n",
            " - Music: Thursday\n"
          ]
        }
      ],
      "source": [
        "# Solve model\n",
        "solver = cp_model.CpSolver()\n",
        "status = solver.Solve(model)\n",
        "\n",
        "if status == cp_model.FEASIBLE or status == cp_model.OPTIMAL:\n",
        "    print(\"Exam schedule:\")\n",
        "    for exam in exams:\n",
        "        assigned_day = solver.Value(exam_schedule[exam])\n",
        "        print(f\" - {exam}: {days[assigned_day]}\")\n",
        "else:\n",
        "    print(\"No solution found.\")\n"
      ]
    }
  ],
  "metadata": {
    "kernelspec": {
      "display_name": "Python 3",
      "language": "python",
      "name": "python3"
    },
    "language_info": {
      "codemirror_mode": {
        "name": "ipython",
        "version": 3
      },
      "file_extension": ".py",
      "mimetype": "text/x-python",
      "name": "python",
      "nbconvert_exporter": "python",
      "pygments_lexer": "ipython3",
      "version": "3.9.6"
    },
    "orig_nbformat": 4,
    "colab": {
      "provenance": []
    }
  },
  "nbformat": 4,
  "nbformat_minor": 0
}