{
 "cells": [
  {
   "cell_type": "code",
   "execution_count": 1,
   "metadata": {},
   "outputs": [
    {
     "name": "stdout",
     "output_type": "stream",
     "text": [
      "Defaulting to user installation because normal site-packages is not writeable\n",
      "Collecting ortools\n",
      "  Downloading ortools-9.13.4784-cp39-cp39-macosx_11_0_arm64.whl (20.2 MB)\n",
      "\u001b[K     |████████████████████████████████| 20.2 MB 2.5 MB/s eta 0:00:01\n",
      "\u001b[?25hRequirement already satisfied: typing-extensions>=4.12 in /Users/edwardbrady/Library/Python/3.9/lib/python/site-packages (from ortools) (4.14.0)\n",
      "Collecting numpy>=1.13.3\n",
      "  Downloading numpy-2.0.2-cp39-cp39-macosx_14_0_arm64.whl (5.3 MB)\n",
      "\u001b[K     |████████████████████████████████| 5.3 MB 10.9 MB/s eta 0:00:01\n",
      "\u001b[?25hCollecting absl-py>=2.0.0\n",
      "  Downloading absl_py-2.3.0-py3-none-any.whl (135 kB)\n",
      "\u001b[K     |████████████████████████████████| 135 kB 28.9 MB/s eta 0:00:01\n",
      "\u001b[?25hCollecting protobuf<6.32,>=6.31.0\n",
      "  Downloading protobuf-6.31.1-cp39-abi3-macosx_10_9_universal2.whl (425 kB)\n",
      "\u001b[K     |████████████████████████████████| 425 kB 33.3 MB/s eta 0:00:01\n",
      "\u001b[?25hCollecting immutabledict>=3.0.0\n",
      "  Downloading immutabledict-4.2.1-py3-none-any.whl (4.7 kB)\n",
      "Collecting pandas>=2.0.0\n",
      "  Downloading pandas-2.3.0-cp39-cp39-macosx_11_0_arm64.whl (10.8 MB)\n",
      "\u001b[K     |████████████████████████████████| 10.8 MB 16.2 MB/s eta 0:00:01\n",
      "\u001b[?25hCollecting pytz>=2020.1\n",
      "  Downloading pytz-2025.2-py2.py3-none-any.whl (509 kB)\n",
      "\u001b[K     |████████████████████████████████| 509 kB 16.8 MB/s eta 0:00:01\n",
      "\u001b[?25hRequirement already satisfied: python-dateutil>=2.8.2 in /Users/edwardbrady/Library/Python/3.9/lib/python/site-packages (from pandas>=2.0.0->ortools) (2.9.0.post0)\n",
      "Collecting tzdata>=2022.7\n",
      "  Downloading tzdata-2025.2-py2.py3-none-any.whl (347 kB)\n",
      "\u001b[K     |████████████████████████████████| 347 kB 20.8 MB/s eta 0:00:01\n",
      "\u001b[?25hRequirement already satisfied: six>=1.5 in /Library/Developer/CommandLineTools/Library/Frameworks/Python3.framework/Versions/3.9/lib/python3.9/site-packages (from python-dateutil>=2.8.2->pandas>=2.0.0->ortools) (1.15.0)\n",
      "Installing collected packages: tzdata, pytz, numpy, protobuf, pandas, immutabledict, absl-py, ortools\n",
      "Successfully installed absl-py-2.3.0 immutabledict-4.2.1 numpy-2.0.2 ortools-9.13.4784 pandas-2.3.0 protobuf-6.31.1 pytz-2025.2 tzdata-2025.2\n",
      "\u001b[33mWARNING: You are using pip version 21.2.4; however, version 25.1.1 is available.\n",
      "You should consider upgrading via the '/Library/Developer/CommandLineTools/usr/bin/python3 -m pip install --upgrade pip' command.\u001b[0m\n",
      "Note: you may need to restart the kernel to use updated packages.\n"
     ]
    },
    {
     "ename": "ImportError",
     "evalue": "dlopen(/Users/edwardbrady/Library/Python/3.9/lib/python/site-packages/ortools/sat/python/cp_model_helper.so, 0x0002): Library not loaded: /Users/corentinl/work/stable/temp_python3.9/lib/libscip.9.2.dylib\n  Referenced from: <07FF885B-3BED-30C4-9BE0-B2A889DC2E5D> /Users/edwardbrady/Library/Python/3.9/lib/python/site-packages/ortools/sat/python/cp_model_helper.so\n  Reason: tried: '/Users/corentinl/work/stable/temp_python3.9/lib/libscip.9.2.dylib' (no such file), '/System/Volumes/Preboot/Cryptexes/OS/Users/corentinl/work/stable/temp_python3.9/lib/libscip.9.2.dylib' (no such file), '/Users/corentinl/work/stable/temp_python3.9/lib/libscip.9.2.dylib' (no such file)",
     "output_type": "error",
     "traceback": [
      "\u001b[0;31m---------------------------------------------------------------------------\u001b[0m",
      "\u001b[0;31mImportError\u001b[0m                               Traceback (most recent call last)",
      "Cell \u001b[0;32mIn[1], line 4\u001b[0m\n\u001b[1;32m      1\u001b[0m \u001b[39m# Install OR-Tools if not installed\u001b[39;00m\n\u001b[1;32m      2\u001b[0m get_ipython()\u001b[39m.\u001b[39mrun_line_magic(\u001b[39m'\u001b[39m\u001b[39mpip\u001b[39m\u001b[39m'\u001b[39m, \u001b[39m'\u001b[39m\u001b[39minstall ortools\u001b[39m\u001b[39m'\u001b[39m)\n\u001b[0;32m----> 4\u001b[0m \u001b[39mfrom\u001b[39;00m\u001b[39m \u001b[39m\u001b[39mortools\u001b[39;00m\u001b[39m.\u001b[39;00m\u001b[39msat\u001b[39;00m\u001b[39m.\u001b[39;00m\u001b[39mpython\u001b[39;00m\u001b[39m \u001b[39m\u001b[39mimport\u001b[39;00m cp_model\n",
      "File \u001b[0;32m~/Library/Python/3.9/lib/python/site-packages/ortools/sat/python/cp_model.py:70\u001b[0m\n\u001b[1;32m     68\u001b[0m \u001b[39mfrom\u001b[39;00m\u001b[39m \u001b[39m\u001b[39mortools\u001b[39;00m\u001b[39m.\u001b[39;00m\u001b[39msat\u001b[39;00m\u001b[39m \u001b[39m\u001b[39mimport\u001b[39;00m cp_model_pb2\n\u001b[1;32m     69\u001b[0m \u001b[39mfrom\u001b[39;00m\u001b[39m \u001b[39m\u001b[39mortools\u001b[39;00m\u001b[39m.\u001b[39;00m\u001b[39msat\u001b[39;00m\u001b[39m \u001b[39m\u001b[39mimport\u001b[39;00m sat_parameters_pb2\n\u001b[0;32m---> 70\u001b[0m \u001b[39mfrom\u001b[39;00m\u001b[39m \u001b[39m\u001b[39mortools\u001b[39;00m\u001b[39m.\u001b[39;00m\u001b[39msat\u001b[39;00m\u001b[39m.\u001b[39;00m\u001b[39mpython\u001b[39;00m\u001b[39m \u001b[39m\u001b[39mimport\u001b[39;00m cp_model_helper \u001b[39mas\u001b[39;00m cmh\n\u001b[1;32m     71\u001b[0m \u001b[39mfrom\u001b[39;00m\u001b[39m \u001b[39m\u001b[39mortools\u001b[39;00m\u001b[39m.\u001b[39;00m\u001b[39msat\u001b[39;00m\u001b[39m.\u001b[39;00m\u001b[39mpython\u001b[39;00m\u001b[39m \u001b[39m\u001b[39mimport\u001b[39;00m cp_model_numbers \u001b[39mas\u001b[39;00m cmn\n\u001b[1;32m     72\u001b[0m \u001b[39mfrom\u001b[39;00m\u001b[39m \u001b[39m\u001b[39mortools\u001b[39;00m\u001b[39m.\u001b[39;00m\u001b[39mutil\u001b[39;00m\u001b[39m.\u001b[39;00m\u001b[39mpython\u001b[39;00m\u001b[39m \u001b[39m\u001b[39mimport\u001b[39;00m sorted_interval_list\n",
      "\u001b[0;31mImportError\u001b[0m: dlopen(/Users/edwardbrady/Library/Python/3.9/lib/python/site-packages/ortools/sat/python/cp_model_helper.so, 0x0002): Library not loaded: /Users/corentinl/work/stable/temp_python3.9/lib/libscip.9.2.dylib\n  Referenced from: <07FF885B-3BED-30C4-9BE0-B2A889DC2E5D> /Users/edwardbrady/Library/Python/3.9/lib/python/site-packages/ortools/sat/python/cp_model_helper.so\n  Reason: tried: '/Users/corentinl/work/stable/temp_python3.9/lib/libscip.9.2.dylib' (no such file), '/System/Volumes/Preboot/Cryptexes/OS/Users/corentinl/work/stable/temp_python3.9/lib/libscip.9.2.dylib' (no such file), '/Users/corentinl/work/stable/temp_python3.9/lib/libscip.9.2.dylib' (no such file)"
     ]
    }
   ],
   "source": [
    "# Install OR-Tools if not installed\n",
    "# %pip install ortools\n",
    "\n",
    "from ortools.sat.python import cp_model"
   ]
  },
  {
   "cell_type": "code",
   "execution_count": 1,
   "metadata": {},
   "outputs": [],
   "source": [
    "# Sample data\n",
    "\n",
    "exams = ['Math', 'Physics', 'Chemistry', 'History']\n",
    "students = {\n",
    "    'Alice': ['Math', 'Physics'],\n",
    "    'Bob': ['Physics', 'Chemistry'],\n",
    "    'Charlie': ['Math', 'History'],\n",
    "}\n",
    "days = ['Mon', 'Tue', 'Wed']\n",
    "\n",
    "# Fixed exam slots (exam: day index)\n",
    "fixed_slots = {\n",
    "    'History': 2  # History exam fixed on Wed\n",
    "}"
   ]
  },
  {
   "cell_type": "code",
   "execution_count": 3,
   "metadata": {},
   "outputs": [
    {
     "name": "stdout",
     "output_type": "stream",
     "text": [
      "Alice\n",
      "Bob\n",
      "Charlie\n"
     ]
    }
   ],
   "source": [
    "for student in students:\n",
    "    print(student)"
   ]
  },
  {
   "cell_type": "code",
   "execution_count": null,
   "metadata": {},
   "outputs": [],
   "source": [
    "\n",
    "model = cp_model.CpModel()"
   ]
  },
  {
   "cell_type": "code",
   "execution_count": null,
   "metadata": {},
   "outputs": [],
   "source": [
    "# Create variables:\n",
    "# exam_schedule[exam] = day assigned (0..len(days)-1)\n",
    "exam_schedule = {}\n",
    "for exam in exams:\n",
    "    if exam in fixed_slots:\n",
    "        # Fixed day\n",
    "        exam_schedule[exam] = model.NewConstant(fixed_slots[exam])\n",
    "    else:\n",
    "        exam_schedule[exam] = model.NewIntVar(0, len(days)-1, exam)\n"
   ]
  },
  {
   "cell_type": "code",
   "execution_count": null,
   "metadata": {},
   "outputs": [],
   "source": [
    "\n",
    "# Constraint 1: No student has more than 1 exam on the same day\n",
    "for student, stu_exams in students.items():\n",
    "    for i in range(len(stu_exams)):\n",
    "        for j in range(i+1, len(stu_exams)):\n",
    "            # exams for this student must be on different days\n",
    "            model.Add(exam_schedule[stu_exams[i]] != exam_schedule[stu_exams[j]])"
   ]
  },
  {
   "cell_type": "code",
   "execution_count": null,
   "metadata": {},
   "outputs": [],
   "source": [
    "\n",
    "# Constraint 2: No more than 2 exams per day (optional example)\n",
    "for d in range(len(days)):\n",
    "    exams_on_day = []\n",
    "    for exam in exams:\n",
    "        is_on_day = model.NewBoolVar(f'{exam}_on_day_{d}')\n",
    "        model.Add(exam_schedule[exam] == d).OnlyEnforceIf(is_on_day)\n",
    "        model.Add(exam_schedule[exam] != d).OnlyEnforceIf(is_on_day.Not())\n",
    "        exams_on_day.append(is_on_day)\n",
    "    model.Add(sum(exams_on_day) <= 2)\n"
   ]
  },
  {
   "cell_type": "code",
   "execution_count": null,
   "metadata": {},
   "outputs": [],
   "source": [
    "# Solve model\n",
    "solver = cp_model.CpSolver()\n",
    "status = solver.Solve(model)\n",
    "\n",
    "if status == cp_model.FEASIBLE or status == cp_model.OPTIMAL:\n",
    "    print(\"Exam schedule:\")\n",
    "    for exam in exams:\n",
    "        assigned_day = solver.Value(exam_schedule[exam])\n",
    "        print(f\" - {exam}: {days[assigned_day]}\")\n",
    "else:\n",
    "    print(\"No solution found.\")\n"
   ]
  }
 ],
 "metadata": {
  "kernelspec": {
   "display_name": "Python 3",
   "language": "python",
   "name": "python3"
  },
  "language_info": {
   "codemirror_mode": {
    "name": "ipython",
    "version": 3
   },
   "file_extension": ".py",
   "mimetype": "text/x-python",
   "name": "python",
   "nbconvert_exporter": "python",
   "pygments_lexer": "ipython3",
   "version": "3.12.3"
  },
  "orig_nbformat": 4
 },
 "nbformat": 4,
 "nbformat_minor": 2
}
