{
 "cells": [
  {
   "cell_type": "markdown",
   "metadata": {},
   "source": [
    "# Exam Timetabling with Morning and Afternoon Slots using OR-Tools\n",
    "\n",
    "This notebook models exams scheduled over multiple days with morning and afternoon slots.\n",
    "\n",
    "Constraints:\n",
    "- No student can have two exams in the same slot (same day & same slot)\n",
    "- No more than 2 exams per slot (day + morning/afternoon)\n",
    "\n",
    "Outputs the exam schedule showing day and slot assignment."
   ]
  },
  {
   "cell_type": "code",
   "execution_count": 1,
   "id": "ce67bc58",
   "metadata": {},
   "outputs": [],
   "source": [
    "# Install OR-Tools if you haven't yet\n",
    "# !pip install ortools"
   ]
  },
  {
   "cell_type": "code",
   "execution_count": 2,
   "id": "044e1e6b",
   "metadata": {},
   "outputs": [
    {
     "ename": "ImportError",
     "evalue": "dlopen(/Users/edwardbrady/Library/Python/3.9/lib/python/site-packages/ortools/sat/python/cp_model_helper.so, 0x0002): Library not loaded: /Users/corentinl/work/stable/temp_python3.9/lib/libscip.9.2.dylib\n  Referenced from: <07FF885B-3BED-30C4-9BE0-B2A889DC2E5D> /Users/edwardbrady/Library/Python/3.9/lib/python/site-packages/ortools/sat/python/cp_model_helper.so\n  Reason: tried: '/Users/corentinl/work/stable/temp_python3.9/lib/libscip.9.2.dylib' (no such file), '/System/Volumes/Preboot/Cryptexes/OS/Users/corentinl/work/stable/temp_python3.9/lib/libscip.9.2.dylib' (no such file), '/Users/corentinl/work/stable/temp_python3.9/lib/libscip.9.2.dylib' (no such file)",
     "output_type": "error",
     "traceback": [
      "\u001b[0;31m---------------------------------------------------------------------------\u001b[0m",
      "\u001b[0;31mImportError\u001b[0m                               Traceback (most recent call last)",
      "Cell \u001b[0;32mIn[2], line 1\u001b[0m\n\u001b[0;32m----> 1\u001b[0m \u001b[39mfrom\u001b[39;00m\u001b[39m \u001b[39m\u001b[39mortools\u001b[39;00m\u001b[39m.\u001b[39;00m\u001b[39msat\u001b[39;00m\u001b[39m.\u001b[39;00m\u001b[39mpython\u001b[39;00m\u001b[39m \u001b[39m\u001b[39mimport\u001b[39;00m cp_model\n",
      "File \u001b[0;32m~/Library/Python/3.9/lib/python/site-packages/ortools/sat/python/cp_model.py:70\u001b[0m\n\u001b[1;32m     68\u001b[0m \u001b[39mfrom\u001b[39;00m\u001b[39m \u001b[39m\u001b[39mortools\u001b[39;00m\u001b[39m.\u001b[39;00m\u001b[39msat\u001b[39;00m\u001b[39m \u001b[39m\u001b[39mimport\u001b[39;00m cp_model_pb2\n\u001b[1;32m     69\u001b[0m \u001b[39mfrom\u001b[39;00m\u001b[39m \u001b[39m\u001b[39mortools\u001b[39;00m\u001b[39m.\u001b[39;00m\u001b[39msat\u001b[39;00m\u001b[39m \u001b[39m\u001b[39mimport\u001b[39;00m sat_parameters_pb2\n\u001b[0;32m---> 70\u001b[0m \u001b[39mfrom\u001b[39;00m\u001b[39m \u001b[39m\u001b[39mortools\u001b[39;00m\u001b[39m.\u001b[39;00m\u001b[39msat\u001b[39;00m\u001b[39m.\u001b[39;00m\u001b[39mpython\u001b[39;00m\u001b[39m \u001b[39m\u001b[39mimport\u001b[39;00m cp_model_helper \u001b[39mas\u001b[39;00m cmh\n\u001b[1;32m     71\u001b[0m \u001b[39mfrom\u001b[39;00m\u001b[39m \u001b[39m\u001b[39mortools\u001b[39;00m\u001b[39m.\u001b[39;00m\u001b[39msat\u001b[39;00m\u001b[39m.\u001b[39;00m\u001b[39mpython\u001b[39;00m\u001b[39m \u001b[39m\u001b[39mimport\u001b[39;00m cp_model_numbers \u001b[39mas\u001b[39;00m cmn\n\u001b[1;32m     72\u001b[0m \u001b[39mfrom\u001b[39;00m\u001b[39m \u001b[39m\u001b[39mortools\u001b[39;00m\u001b[39m.\u001b[39;00m\u001b[39mutil\u001b[39;00m\u001b[39m.\u001b[39;00m\u001b[39mpython\u001b[39;00m\u001b[39m \u001b[39m\u001b[39mimport\u001b[39;00m sorted_interval_list\n",
      "\u001b[0;31mImportError\u001b[0m: dlopen(/Users/edwardbrady/Library/Python/3.9/lib/python/site-packages/ortools/sat/python/cp_model_helper.so, 0x0002): Library not loaded: /Users/corentinl/work/stable/temp_python3.9/lib/libscip.9.2.dylib\n  Referenced from: <07FF885B-3BED-30C4-9BE0-B2A889DC2E5D> /Users/edwardbrady/Library/Python/3.9/lib/python/site-packages/ortools/sat/python/cp_model_helper.so\n  Reason: tried: '/Users/corentinl/work/stable/temp_python3.9/lib/libscip.9.2.dylib' (no such file), '/System/Volumes/Preboot/Cryptexes/OS/Users/corentinl/work/stable/temp_python3.9/lib/libscip.9.2.dylib' (no such file), '/Users/corentinl/work/stable/temp_python3.9/lib/libscip.9.2.dylib' (no such file)"
     ]
    }
   ],
   "source": [
    "from ortools.sat.python import cp_model"
   ]
  },
  {
   "cell_type": "code",
   "execution_count": null,
   "id": "96e5050c",
   "metadata": {},
   "outputs": [],
   "source": [
    "# Sample data\n",
    "exams = ['Math', 'Physics', 'Chemistry', 'History', 'Geography', 'PE', 'Music']\n",
    "\n",
    "# Students and their exams\n",
    "students = {\n",
    "    'Alice': ['Math', 'Physics', 'Geography'],\n",
    "    'Bob': ['Physics', 'Chemistry', 'Music'],\n",
    "    'Charlie': ['Math', 'History', 'PE'],\n",
    "    'Diana': ['Chemistry', 'History', 'Music'],\n",
    "}\n",
    "\n",
    "# Module leaders for info\n",
    "module_leaders = {\n",
    "    'Math': 'Dr. Smith',\n",
    "    'Physics': 'Dr. Johnson',\n",
    "    'Chemistry': 'Dr. Lee',\n",
    "    'History': 'Dr. Patel',\n",
    "    'Geography': 'Dr. Brown',\n",
    "    'PE': 'Coach Carter',\n",
    "    'Music': 'Ms. Green',\n",
    "}\n",
    "\n",
    "# Days and slots\n",
    "days = ['Monday', 'Tuesday', 'Wednesday', 'Thursday']\n",
    "slots = ['Morning', 'Afternoon']"
   ]
  },
  {
   "cell_type": "code",
   "execution_count": null,
   "id": "e6b13160",
   "metadata": {},
   "outputs": [],
   "source": [
    "model = cp_model.CpModel()\n",
    "\n",
    "num_days = len(days)\n",
    "num_slots = len(slots)\n",
    "\n",
    "# Variables: exam_day and exam_slot\n",
    "exam_day = {}\n",
    "exam_slot = {}\n",
    "for exam in exams:\n",
    "    exam_day[exam] = model.NewIntVar(0, num_days - 1, f'{exam}_day')\n",
    "    exam_slot[exam] = model.NewIntVar(0, num_slots - 1, f'{exam}_slot')"
   ]
  },
  {
   "cell_type": "code",
   "execution_count": null,
   "id": "cad8eb9a",
   "metadata": {},
   "outputs": [],
   "source": [
    "# Constraint 1: No student can have two exams at the same time (same day and same slot)\n",
    "for student, stu_exams in students.items():\n",
    "    for i in range(len(stu_exams)):\n",
    "        for j in range(i + 1, len(stu_exams)):\n",
    "            # Add constraint that exams i and j for the student can't be in the same day and slot\n",
    "            model.AddBoolOr([\n",
    "                exam_day[stu_exams[i]] != exam_day[stu_exams[j]],\n",
    "                exam_slot[stu_exams[i]] != exam_slot[stu_exams[j]]\n",
    "            ])"
   ]
  },
  {
   "cell_type": "code",
   "execution_count": null,
   "id": "902078fa",
   "metadata": {},
   "outputs": [],
   "source": [
    "# Constraint 2: No more than 2 exams per slot (day + morning/afternoon)\n",
    "for d in range(num_days):\n",
    "    for s in range(num_slots):\n",
    "        exams_in_slot = []\n",
    "        for exam in exams:\n",
    "            is_in_slot = model.NewBoolVar(f'{exam}_day{d}_slot{s}')\n",
    "            model.Add(exam_day[exam] == d).OnlyEnforceIf(is_in_slot)\n",
    "            model.Add(exam_day[exam] != d).OnlyEnforceIf(is_in_slot.Not())\n",
    "            model.Add(exam_slot[exam] == s).OnlyEnforceIf(is_in_slot)\n",
    "            model.Add(exam_slot[exam] != s).OnlyEnforceIf(is_in_slot.Not())\n",
    "            exams_in_slot.append(is_in_slot)\n",
    "        model.Add(sum(exams_in_slot) <= 2)"
   ]
  },
  {
   "cell_type": "code",
   "execution_count": null,
   "id": "a69e7704",
   "metadata": {},
   "outputs": [],
   "source": [
    "# Solve the model\n",
    "solver = cp_model.CpSolver()\n",
    "status = solver.Solve(model)\n",
    "\n",
    "if status == cp_model.FEASIBLE or status == cp_model.OPTIMAL:\n",
    "    print(\"Exam Schedule:\")\n",
    "    for exam in exams:\n",
    "        d = solver.Value(exam_day[exam])\n",
    "        s = solver.Value(exam_slot[exam])\n",
    "        leader = module_leaders.get(exam, 'Unknown')\n",
    "        print(f\" - {exam} (Leader: {leader}): {days[d]} {slots[s]}\")\n",
    "else:\n",
    "    print(\"No solution found.\")"
   ]
  }
 ],
 "metadata": {
  "kernelspec": {
   "display_name": "Python 3",
   "language": "python",
   "name": "python3"
  },
  "language_info": {
   "codemirror_mode": {
    "name": "ipython",
    "version": 3
   },
   "file_extension": ".py",
   "mimetype": "text/x-python",
   "name": "python",
   "nbconvert_exporter": "python",
   "pygments_lexer": "ipython3",
   "version": "3.9.6"
  }
 },
 "nbformat": 4,
 "nbformat_minor": 5
}
