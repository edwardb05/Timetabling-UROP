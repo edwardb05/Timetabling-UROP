{
  "cells": [
    {
      "cell_type": "markdown",
      "metadata": {
        "id": "euYND5jOuTHt"
      },
      "source": [
        "# Exam Timetabling with Morning and Afternoon Slots using OR-Tools\n",
        "\n",
        "This notebook models exams scheduled over multiple days with morning and afternoon slots.\n",
        "\n",
        "Constraints:\n",
        "- No student can have two exams in the same slot (same day & same slot)\n",
        "- No more than 2 exams per slot (day + morning/afternoon)\n",
        "\n",
        "Outputs the exam schedule showing day and slot assignment."
      ],
      "id": "euYND5jOuTHt"
    },
    {
      "cell_type": "code",
      "execution_count": 50,
      "id": "ce67bc58",
      "metadata": {
        "id": "ce67bc58"
      },
      "outputs": [],
      "source": [
        "# Install OR-Tools if you haven't yet\n",
        "#!pip install ortools"
      ]
    },
    {
      "cell_type": "code",
      "execution_count": 51,
      "id": "044e1e6b",
      "metadata": {
        "id": "044e1e6b"
      },
      "outputs": [],
      "source": [
        "from ortools.sat.python import cp_model"
      ]
    },
    {
      "cell_type": "code",
      "execution_count": 52,
      "id": "96e5050c",
      "metadata": {
        "id": "96e5050c"
      },
      "outputs": [],
      "source": [
        "# Sample data\n",
        "exams = ['Math', 'Physics', 'Chemistry', 'History', 'Geography', 'PE', 'Music']\n",
        "\n",
        "# Students and their exams\n",
        "students = {\n",
        "    'Alice': ['Math', 'Physics', 'Geography'],\n",
        "    'Bob': ['Physics', 'Chemistry', 'Music'],\n",
        "    'Charlie': ['Math', 'History', 'PE'],\n",
        "    'Diana': ['Chemistry', 'History', 'Music'],\n",
        "}\n",
        "\n",
        "# Module leaders for info\n",
        "module_leaders = {\n",
        "    'Math': 'Dr. Smith',\n",
        "    'Physics': 'Dr. Johnson',\n",
        "    'Chemistry': 'Dr. Lee',\n",
        "    'History': 'Dr. Patel',\n",
        "    'Geography': 'Dr. Brown',\n",
        "    'PE': 'Coach Carter',\n",
        "    'Music': 'Ms. Green',\n",
        "}\n",
        "\n",
        "# Days and slots\n",
        "days = ['Monday', 'Tuesday', 'Wednesday', 'Thursday','Friday',\"saturday\",\"sunday\"]\n",
        "slots = ['Morning', 'Afternoon']"
      ]
    },
    {
      "cell_type": "code",
      "execution_count": 53,
      "id": "e6b13160",
      "metadata": {
        "id": "e6b13160"
      },
      "outputs": [],
      "source": [
        "model = cp_model.CpModel()\n",
        "\n",
        "num_days = len(days)\n",
        "num_slots = len(slots)\n",
        "\n",
        "# Variables: exam_day and exam_slot\n",
        "exam_day = {}\n",
        "exam_slot = {}\n",
        "for exam in exams:\n",
        "    exam_day[exam] = model.NewIntVar(0, num_days - 1, f'{exam}_day')\n",
        "    exam_slot[exam] = model.NewIntVar(0, num_slots - 1, f'{exam}_slot')"
      ]
    },
    {
      "cell_type": "code",
      "execution_count": 54,
      "id": "cad8eb9a",
      "metadata": {
        "id": "cad8eb9a"
      },
      "outputs": [],
      "source": [
        "# Constraint 1: No student can have two exams at the same time (same day and same slot)\n",
        "for student, stu_exams in students.items():\n",
        "    for i in range(len(stu_exams)):\n",
        "        for j in range(i + 1, len(stu_exams)):\n",
        "          # Create boolean variables for the conditions\n",
        "          diff_day = model.NewBoolVar('diff_day')\n",
        "          diff_slot = model.NewBoolVar('diff_slot')\n",
        "\n",
        "          # Link them to the actual constraints\n",
        "          model.Add(exam_day[stu_exams[i]] != exam_day[stu_exams[j]]).OnlyEnforceIf(diff_day)\n",
        "          model.Add(exam_day[stu_exams[i]] == exam_day[stu_exams[j]]).OnlyEnforceIf(diff_day.Not())\n",
        "\n",
        "          model.Add(exam_slot[stu_exams[i]] != exam_slot[stu_exams[j]]).OnlyEnforceIf(diff_slot)\n",
        "          model.Add(exam_slot[stu_exams[i]] == exam_slot[stu_exams[j]]).OnlyEnforceIf(diff_slot.Not())\n",
        "\n",
        "          # Enforce that at least one of them is true\n",
        "          model.AddBoolOr([diff_day, diff_slot])\n"
      ]
    },
    {
      "cell_type": "code",
      "execution_count": 55,
      "id": "902078fa",
      "metadata": {
        "id": "902078fa"
      },
      "outputs": [],
      "source": [
        "for d in range(num_days):\n",
        "    for s in range(num_slots):\n",
        "        exams_in_slot = []\n",
        "        for exam in exams:\n",
        "            is_day = model.NewBoolVar(f'{exam}_is_day{d}')\n",
        "            is_slot = model.NewBoolVar(f'{exam}_is_slot{s}')\n",
        "            is_in_slot = model.NewBoolVar(f'{exam}_in_day{d}_slot{s}')\n",
        "\n",
        "            # Link day and slot indicators\n",
        "            model.Add(exam_day[exam] == d).OnlyEnforceIf(is_day)\n",
        "            model.Add(exam_day[exam] != d).OnlyEnforceIf(is_day.Not())\n",
        "\n",
        "            model.Add(exam_slot[exam] == s).OnlyEnforceIf(is_slot)\n",
        "            model.Add(exam_slot[exam] != s).OnlyEnforceIf(is_slot.Not())\n",
        "\n",
        "            # is_in_slot = is_day AND is_slot\n",
        "            model.AddBoolAnd([is_day, is_slot]).OnlyEnforceIf(is_in_slot)\n",
        "            model.AddBoolOr([is_day.Not(), is_slot.Not()]).OnlyEnforceIf(is_in_slot.Not())\n",
        "\n",
        "            exams_in_slot.append(is_in_slot)\n",
        "\n",
        "        # Enforce max 2 exams per slot\n",
        "        model.Add(sum(exams_in_slot) <= 2)\n"
      ]
    },
    {
      "cell_type": "code",
      "execution_count": 56,
      "id": "a69e7704",
      "metadata": {
        "id": "a69e7704",
        "outputId": "1a31185a-10c1-419a-df28-9b40e1db2a42",
        "colab": {
          "base_uri": "https://localhost:8080/"
        }
      },
      "outputs": [
        {
          "output_type": "stream",
          "name": "stdout",
          "text": [
            "Exam Schedule:\n",
            " - Math (Leader: Dr. Smith): Monday Afternoon\n",
            " - Physics (Leader: Dr. Johnson): Monday Morning\n",
            " - Chemistry (Leader: Dr. Lee): Monday Afternoon\n",
            " - History (Leader: Dr. Patel): Thursday Afternoon\n",
            " - Geography (Leader: Dr. Brown): Tuesday Afternoon\n",
            " - PE (Leader: Coach Carter): Monday Morning\n",
            " - Music (Leader: Ms. Green): Wednesday Afternoon\n"
          ]
        }
      ],
      "source": [
        "# Solve the model\n",
        "solver = cp_model.CpSolver()\n",
        "status = solver.Solve(model)\n",
        "\n",
        "if status == cp_model.FEASIBLE or status == cp_model.OPTIMAL:\n",
        "    print(\"Exam Schedule:\")\n",
        "    for exam in exams:\n",
        "        d = solver.Value(exam_day[exam])\n",
        "        s = solver.Value(exam_slot[exam])\n",
        "        leader = module_leaders.get(exam, 'Unknown')\n",
        "        print(f\" - {exam} (Leader: {leader}): {days[d]} {slots[s]}\")\n",
        "else:\n",
        "    print(\"No solution found.\")"
      ]
    }
  ],
  "metadata": {
    "kernelspec": {
      "display_name": "Python 3",
      "language": "python",
      "name": "python3"
    },
    "language_info": {
      "codemirror_mode": {
        "name": "ipython",
        "version": 3
      },
      "file_extension": ".py",
      "mimetype": "text/x-python",
      "name": "python",
      "nbconvert_exporter": "python",
      "pygments_lexer": "ipython3",
      "version": "3.9.6"
    },
    "colab": {
      "provenance": []
    }
  },
  "nbformat": 4,
  "nbformat_minor": 5
}